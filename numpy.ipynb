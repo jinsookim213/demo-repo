{
 "cells": [
  {
   "cell_type": "code",
   "execution_count": 1,
   "id": "c3d05316",
   "metadata": {},
   "outputs": [],
   "source": [
    "import random\n",
    "import sys\n",
    "\n",
    "# x=[1,2,3,4]\n",
    "# random.shuffle(x)\n",
    "# print(x)\n",
    "\n",
    "# users = range(1,21)\n",
    "# users = list(users)\n",
    "# random.shuffle(users)\n",
    "# print(users)"
   ]
  },
  {
   "cell_type": "code",
   "execution_count": 101,
   "id": "da1b0d72",
   "metadata": {},
   "outputs": [],
   "source": [
    "# winners = random.sample(users,4)\n",
    "# # print(winners[0], winners[1])\n",
    "# print(random.gauss)\n"
   ]
  },
  {
   "cell_type": "code",
   "execution_count": 102,
   "id": "f3527953",
   "metadata": {},
   "outputs": [],
   "source": [
    "# weather = input(\"what is condition\")\n",
    "# if weather == 'good':\n",
    "#     print(\"good\")\n",
    "# elif weather == 'bad':\n",
    "#     print(\"bad\")\n",
    "# else:\n",
    "#     print(\"what!\")\n",
    "\n"
   ]
  },
  {
   "cell_type": "code",
   "execution_count": 103,
   "id": "3ad5ce53",
   "metadata": {},
   "outputs": [],
   "source": [
    "# y = \"EUN JIN KIM\"\n",
    "# y = y.lower()\n",
    "# a = (0,1,2,3,4)\n",
    "# for x in range(5) :\n",
    "#     print(\"your number is {}, next {}\".format(x, y))\n"
   ]
  },
  {
   "cell_type": "code",
   "execution_count": 2,
   "id": "0f7f8e3f",
   "metadata": {},
   "outputs": [
    {
     "name": "stdout",
     "output_type": "stream",
     "text": [
      "[7, 102, 3, 104, 5, 6]\n"
     ]
    }
   ],
   "source": [
    "# index = 6\n",
    "# while True:\n",
    "#     print(\"we call you {}\" .format(index))\n",
    "#     index -= 1\n",
    "#     if(index < 1):\n",
    "#         break\n",
    "\n",
    "# s = [7,2,3,4,5,6]\n",
    "# for x in range(len(s)):\n",
    "#     if x == 1 or x == 3 :\n",
    "#         s[x] = s[x] + 100\n",
    "# print(s)\n",
    "# List Comprehension        \n",
    "# x = [i + 100 if i < 3 else i for i in s   ]\n",
    "# print(x)\n"
   ]
  },
  {
   "cell_type": "code",
   "execution_count": 2,
   "id": "ec3ac7f6",
   "metadata": {},
   "outputs": [
    {
     "name": "stdout",
     "output_type": "stream",
     "text": [
      "[5, 4, 12, 11]\n",
      "3.11.1 (tags/v3.11.1:a7a450f, Dec  6 2022, 19:58:39) [MSC v.1934 64 bit (AMD64)]\n"
     ]
    }
   ],
   "source": [
    "s = [\"hello\",\"jins\", \"what is this\",\"do you care\"]\n",
    "s = [len(i) for i in s]\n",
    "print(s)\n",
    "print(sys.version)"
   ]
  },
  {
   "cell_type": "code",
   "execution_count": 16,
   "id": "49d43f33",
   "metadata": {},
   "outputs": [
    {
     "name": "stdout",
     "output_type": "stream",
     "text": [
      "jin 20abc\n"
     ]
    }
   ],
   "source": [
    "# print(\"jin soo kim \", end=\"*\")\n",
    "# print(\"hello\")\n",
    "def profile(name, age, *lang):\n",
    "    print(name, age, end=\"\")\n",
    "    for x in lang:\n",
    "        print(x, end=\"\")\n",
    "        \n",
    "    print()\n",
    "    \n",
    "profile(\"jin\" , 20 , \"a\", \"b\",\"c\")    "
   ]
  },
  {
   "cell_type": "code",
   "execution_count": 26,
   "id": "311ad8de",
   "metadata": {},
   "outputs": [
    {
     "name": "stdout",
     "output_type": "stream",
     "text": [
      "python,java?kim\n"
     ]
    },
    {
     "name": "stderr",
     "output_type": "stream",
     "text": [
      "python jave\n"
     ]
    }
   ],
   "source": [
    "print(\"python\", \"java\", sep=\",\", end=\"?\") \n",
    "print(\"kim\")\n",
    "print(\"python\", \"jave\", file=sys.stderr)"
   ]
  },
  {
   "cell_type": "code",
   "execution_count": 32,
   "id": "e405130a",
   "metadata": {},
   "outputs": [
    {
     "name": "stdout",
     "output_type": "stream",
     "text": [
      "mathmatic:        20\n",
      "eng      :      8877\n",
      "coding   :        88\n"
     ]
    }
   ],
   "source": [
    "s = {\"mathmatic\": 20, \"eng\":8877, \"coding\":88}\n",
    "for t, g in s.items():\n",
    "    print(t.ljust(9), str(g).rjust(10), sep=\":\")"
   ]
  },
  {
   "cell_type": "code",
   "execution_count": 37,
   "id": "e0db9f52",
   "metadata": {},
   "outputs": [
    {
     "name": "stdout",
     "output_type": "stream",
     "text": [
      "left over gun 88\n"
     ]
    }
   ],
   "source": [
    "gun = 10\n",
    "def checkpoint(s):\n",
    "    global gun\n",
    "    gun = gun-s\n",
    "    print(\"left over gun {}\".format(g))\n",
    "checkpoint(5)"
   ]
  },
  {
   "cell_type": "code",
   "execution_count": 39,
   "id": "507f84be",
   "metadata": {},
   "outputs": [
    {
     "name": "stdout",
     "output_type": "stream",
     "text": [
      "your number: 010\n",
      "your number: 011\n",
      "your number: 012\n",
      "your number: 013\n",
      "your number: 014\n",
      "your number: 015\n"
     ]
    }
   ],
   "source": [
    "for num in range(10,16):\n",
    "    print(\"your number: \" + str(num).zfill(3))"
   ]
  },
  {
   "cell_type": "code",
   "execution_count": 50,
   "id": "fbc0ed45",
   "metadata": {},
   "outputs": [
    {
     "name": "stdout",
     "output_type": "stream",
     "text": [
      "******+500\n",
      "      -500\n",
      "10,000,000\n",
      "+10,000,000\n",
      "100,000,000^^^^^^^^^^^^^^^^^^^\n",
      "1.666667\n",
      "1.667\n"
     ]
    }
   ],
   "source": [
    "print(\"{0:*>+10}\".format(500))\n",
    "print(\"{0: >+10}\".format(-500))\n",
    "print(\"{0:,}\".format(10000000))\n",
    "print(\"{0:+,}\".format(10000000))\n",
    "print(\"{0:^<30,}\".format(100000000))\n",
    "print(\"{0:f}\".format(5/3))\n",
    "print(\"{0:.3f}\".format(5/3))"
   ]
  },
  {
   "cell_type": "code",
   "execution_count": 66,
   "id": "21a64aeb",
   "metadata": {},
   "outputs": [],
   "source": [
    "# sfile = open(\"score.txt\",\"w\", encoding= \"utf8\")\n",
    "# print(\"math: 25\", file= sfile)\n",
    "# print(\"englsh: 88\", file= sfile)\n",
    "# sfile.close()\n",
    "\n",
    "sfile = open(\"score.txt\", \"a\",encoding=\"utf8\")\n",
    "sfile.write(\"\\n science:77\")\n",
    "sfile.write(\"\\n coding: 99\")\n",
    "sfile.close()"
   ]
  },
  {
   "cell_type": "code",
   "execution_count": 68,
   "id": "9546d121",
   "metadata": {},
   "outputs": [
    {
     "name": "stdout",
     "output_type": "stream",
     "text": [
      "\n",
      " science:77\n",
      " coding: 99\n",
      " science:77\n",
      " coding: 99\n"
     ]
    }
   ],
   "source": [
    "sfile = open(\"score.txt\", \"r\", encoding=\"utf8\")\n",
    "print(sfile.read())\n",
    "sfile.close()"
   ]
  },
  {
   "cell_type": "code",
   "execution_count": 69,
   "id": "5df19b61",
   "metadata": {},
   "outputs": [
    {
     "name": "stdout",
     "output_type": "stream",
     "text": [
      "\n",
      "b'G\\xc5\\xbceg\\xc5\\xbc\\xc3\\xb3\\xc5\\x82ka'\n",
      "Gżegżółka\n"
     ]
    }
   ],
   "source": [
    "print(chr(57344))\n",
    "a = \"Gżegżółka\"\n",
    "b = a.encode('utf-8')\n",
    "print(b)\n",
    "\n",
    "c = b.decode('utf-8')\n",
    "print(c)\n"
   ]
  },
  {
   "cell_type": "code",
   "execution_count": 71,
   "id": "8b7f457a",
   "metadata": {},
   "outputs": [
    {
     "name": "stdout",
     "output_type": "stream",
     "text": [
      "\n",
      " science:77\n",
      " coding: 99\n",
      " science:77\n",
      " coding: 99"
     ]
    }
   ],
   "source": [
    "sfile = open(\"score.txt\", \"r\", encoding=\"utf8\")\n",
    "while True:\n",
    "    line = sfile.readline()\n",
    "    if not line:\n",
    "        break\n",
    "    print(line, end=\"\")\n",
    "sfile.close()"
   ]
  },
  {
   "cell_type": "code",
   "execution_count": 73,
   "id": "ec826e41",
   "metadata": {},
   "outputs": [
    {
     "name": "stdout",
     "output_type": "stream",
     "text": [
      "\n",
      " science:77\n",
      " coding: 99\n",
      " science:77\n",
      " coding: 99"
     ]
    }
   ],
   "source": [
    "sfile = open(\"score.txt\", \"r\", encoding=\"utf8\")\n",
    "lines = sfile.readlines()\n",
    "for line in lines:\n",
    "    print(line, end=\"\")\n",
    "sfile.close()"
   ]
  },
  {
   "cell_type": "code",
   "execution_count": 78,
   "id": "35127997",
   "metadata": {},
   "outputs": [
    {
     "name": "stdout",
     "output_type": "stream",
     "text": [
      "{'name': 'kim', 'age': 20, 'hobby': ['soccor', 'golf', 'coding']}\n"
     ]
    }
   ],
   "source": [
    "import pickle\n",
    "pfile = open(\"profile.pickle\", \"wb\")\n",
    "file = {\"name\":\"kim\", \"age\": 20, \"hobby\":[\"soccor\", \"golf\", \"coding\"]}\n",
    "print(file)\n",
    "pickle.dump(file, pfile)\n",
    "pfile.close()"
   ]
  },
  {
   "cell_type": "code",
   "execution_count": 80,
   "id": "510f17a0",
   "metadata": {},
   "outputs": [
    {
     "name": "stdout",
     "output_type": "stream",
     "text": [
      "{'name': 'kim', 'age': 20, 'hobby': ['soccor', 'golf', 'coding']}\n"
     ]
    }
   ],
   "source": [
    "pfile = open(\"profile.pickle\" ,\"rb\")\n",
    "file = pickle.load(pfile)\n",
    "print(file)\n",
    "pfile.close()"
   ]
  },
  {
   "cell_type": "code",
   "execution_count": 83,
   "id": "359c26b6",
   "metadata": {},
   "outputs": [
    {
     "name": "stdout",
     "output_type": "stream",
     "text": [
      "{'name': 'kim', 'age': 20, 'hobby': ['soccor', 'golf', 'coding']}\n",
      "I am doing well\n"
     ]
    }
   ],
   "source": [
    "with open(\"profile.pickle\",\"rb\") as pfile:  #no need close\n",
    "    print(pickle.load(pfile))\n",
    "with open(\"study.txt\" ,\"w\",encoding= \"utf8\") as study_file:\n",
    "    study_file.write(\"I am doing well\")\n",
    "with open(\"study.txt\" ,\"r\",encoding= \"utf8\") as study_file:\n",
    "    print(study_file.read())\n",
    "\n",
    "    "
   ]
  },
  {
   "cell_type": "code",
   "execution_count": 86,
   "id": "3efddac0",
   "metadata": {},
   "outputs": [],
   "source": [
    "for i in range(1, 10):\n",
    "    with open(str(i) + \"week.txt\", \"w\", encoding = \"utf8\") as report_file:\n",
    "        report_file.write(\" -{} week report\" .format(i))\n",
    "        report_file.write(\" -\\n Department:\" )\n",
    "        report_file.write(\" -\\n Name:\" )\n",
    "        report_file.write(\" -\\n work summary:\" )\n",
    "    "
   ]
  },
  {
   "cell_type": "code",
   "execution_count": 101,
   "id": "fc7b1790",
   "metadata": {},
   "outputs": [
    {
     "name": "stdout",
     "output_type": "stream",
     "text": [
      "unit created\n"
     ]
    }
   ],
   "source": [
    "class Unit:\n",
    "    def __init__(self):\n",
    "        print(\"unit created\")\n",
    "class Flyable:\n",
    "    def __init__(self):\n",
    "        print(\"Flyable was created\")\n",
    "class fu(Flyable, Unit):\n",
    "    def __init__(self):\n",
    "#         super().__init__()\n",
    "        Unit.__init__(self)\n",
    "\n",
    "    \n",
    "dropship = fu()"
   ]
  },
  {
   "cell_type": "code",
   "execution_count": 110,
   "id": "dd145e1a",
   "metadata": {},
   "outputs": [
    {
     "name": "stdout",
     "output_type": "stream",
     "text": [
      "my calculation:\n",
      "First Number:a\n",
      "There is an error\n"
     ]
    }
   ],
   "source": [
    "try:\n",
    "    print(\"my calculation:\")\n",
    "    n1 = int(input(\"First Number:\"))\n",
    "    n2 = int(input(\"Second Number:\"))\n",
    "    print(\"the answer is : {}\".format(n1/n2))\n",
    "except ValueError:\n",
    "    print(\"There is an error\")\n",
    "except ZeroDivisionError as err:\n",
    "    print(err)\n"
   ]
  },
  {
   "cell_type": "code",
   "execution_count": 112,
   "id": "61f9c15d",
   "metadata": {},
   "outputs": [
    {
     "name": "stdout",
     "output_type": "stream",
     "text": [
      "one digit calculation:\n",
      "First Number:23\n",
      "Second Number:12\n",
      "There is an error\n"
     ]
    }
   ],
   "source": [
    "try:\n",
    "    print(\"one digit calculation:\")\n",
    "    n1 = int(input(\"First Number:\"))\n",
    "    n2 = int(input(\"Second Number:\"))\n",
    "    if n1>10 or n2>10:\n",
    "        raise ValueError\n",
    "    print(\"the answer is : {}\".format(n1/n2))\n",
    "except ValueError:\n",
    "    print(\"There is an error\")\n",
    "except ZeroDivisionError as err:\n",
    "    print(err)"
   ]
  },
  {
   "cell_type": "code",
   "execution_count": 113,
   "id": "e0c81e66",
   "metadata": {},
   "outputs": [
    {
     "name": "stdout",
     "output_type": "stream",
     "text": [
      "one digit calculation:\n",
      "First Number:12\n",
      "Second Number:23\n",
      "customer error handling\n"
     ]
    }
   ],
   "source": [
    "class BigNumberError(Exception):\n",
    "    pass\n",
    "\n",
    "try:\n",
    "    print(\"one digit calculation:\")\n",
    "    n1 = int(input(\"First Number:\"))\n",
    "    n2 = int(input(\"Second Number:\"))\n",
    "    if n1>10 or n2>10:\n",
    "        raise BigNumberError\n",
    "    print(\"the answer is : {}\".format(n1/n2))\n",
    "except ValueError:\n",
    "    print(\"There is an error\")\n",
    "except ZeroDivisionError as err:\n",
    "    print(err)\n",
    "except BigNumberError:\n",
    "    print(\"customer error handling\")"
   ]
  },
  {
   "cell_type": "code",
   "execution_count": 2,
   "id": "dde75bdd",
   "metadata": {},
   "outputs": [
    {
     "name": "stdout",
     "output_type": "stream",
     "text": [
      "one digit calculation:\n",
      "Ther is an error.  your input value:11, 1\n",
      "Thank you for using my calculation\n"
     ]
    }
   ],
   "source": [
    "class BigNumberError(Exception):\n",
    "    def __init__(self, msg):\n",
    "        self.msg = msg\n",
    "    def __str__(self):\n",
    "        return self.msg\n",
    "\n",
    "try:\n",
    "    print(\"one digit calculation:\")\n",
    "    n1 = int(input(\"First Number:\"))\n",
    "    n2 = int(input(\"Second Number:\"))\n",
    "    if n1>10 or n2>10:\n",
    "        raise BigNumberError(\"Ther is an error.  your input value:{}, {}\".format(n1,n2))\n",
    "    print(\"the answer is : {0:.2f}\".format(n1/n2))\n",
    "except ValueError:\n",
    "    print(\"There is an error\")\n",
    "except ZeroDivisionError as err:\n",
    "    print(err)\n",
    "except BigNumberError as err:\n",
    "    print(err)\n",
    "finally:\n",
    "    print(\"Thank you for using my calculation\")"
   ]
  },
  {
   "cell_type": "code",
   "execution_count": 6,
   "id": "28c673b3",
   "metadata": {},
   "outputs": [
    {
     "ename": "NotSupportedError",
     "evalue": "Authentication plugin 'caching_sha2_password' is not supported",
     "output_type": "error",
     "traceback": [
      "\u001b[1;31m---------------------------------------------------------------------------\u001b[0m",
      "\u001b[1;31mNotSupportedError\u001b[0m                         Traceback (most recent call last)",
      "Cell \u001b[1;32mIn[6], line 2\u001b[0m\n\u001b[0;32m      1\u001b[0m \u001b[39mimport\u001b[39;00m \u001b[39mmysql\u001b[39;00m\u001b[39m.\u001b[39;00m\u001b[39mconnector\u001b[39;00m\n\u001b[1;32m----> 2\u001b[0m mydb \u001b[39m=\u001b[39m mysql\u001b[39m.\u001b[39;49mconnector\u001b[39m.\u001b[39;49mconnect(host\u001b[39m=\u001b[39;49m\u001b[39m\"\u001b[39;49m\u001b[39mlocalhost\u001b[39;49m\u001b[39m\"\u001b[39;49m, user\u001b[39m=\u001b[39;49m\u001b[39m\"\u001b[39;49m\u001b[39mjin\u001b[39;49m\u001b[39m\"\u001b[39;49m, passwd\u001b[39m=\u001b[39;49m\u001b[39m\"\u001b[39;49m\u001b[39m1234\u001b[39;49m\u001b[39m\"\u001b[39;49m)\n",
      "File \u001b[1;32m~\\AppData\\Local\\Packages\\PythonSoftwareFoundation.Python.3.11_qbz5n2kfra8p0\\LocalCache\\local-packages\\Python311\\site-packages\\mysql\\connector\\__init__.py:179\u001b[0m, in \u001b[0;36mconnect\u001b[1;34m(*args, **kwargs)\u001b[0m\n\u001b[0;32m    177\u001b[0m     \u001b[39mreturn\u001b[39;00m CMySQLConnection(\u001b[39m*\u001b[39margs, \u001b[39m*\u001b[39m\u001b[39m*\u001b[39mkwargs)\n\u001b[0;32m    178\u001b[0m \u001b[39melse\u001b[39;00m:\n\u001b[1;32m--> 179\u001b[0m     \u001b[39mreturn\u001b[39;00m MySQLConnection(\u001b[39m*\u001b[39;49margs, \u001b[39m*\u001b[39;49m\u001b[39m*\u001b[39;49mkwargs)\n",
      "File \u001b[1;32m~\\AppData\\Local\\Packages\\PythonSoftwareFoundation.Python.3.11_qbz5n2kfra8p0\\LocalCache\\local-packages\\Python311\\site-packages\\mysql\\connector\\connection.py:95\u001b[0m, in \u001b[0;36mMySQLConnection.__init__\u001b[1;34m(self, *args, **kwargs)\u001b[0m\n\u001b[0;32m     92\u001b[0m \u001b[39mself\u001b[39m\u001b[39m.\u001b[39m_pool_config_version \u001b[39m=\u001b[39m \u001b[39mNone\u001b[39;00m\n\u001b[0;32m     94\u001b[0m \u001b[39mif\u001b[39;00m \u001b[39mlen\u001b[39m(kwargs) \u001b[39m>\u001b[39m \u001b[39m0\u001b[39m:\n\u001b[1;32m---> 95\u001b[0m     \u001b[39mself\u001b[39;49m\u001b[39m.\u001b[39;49mconnect(\u001b[39m*\u001b[39;49m\u001b[39m*\u001b[39;49mkwargs)\n",
      "File \u001b[1;32m~\\AppData\\Local\\Packages\\PythonSoftwareFoundation.Python.3.11_qbz5n2kfra8p0\\LocalCache\\local-packages\\Python311\\site-packages\\mysql\\connector\\abstracts.py:716\u001b[0m, in \u001b[0;36mMySQLConnectionAbstract.connect\u001b[1;34m(self, **kwargs)\u001b[0m\n\u001b[0;32m    713\u001b[0m     \u001b[39mself\u001b[39m\u001b[39m.\u001b[39mconfig(\u001b[39m*\u001b[39m\u001b[39m*\u001b[39mkwargs)\n\u001b[0;32m    715\u001b[0m \u001b[39mself\u001b[39m\u001b[39m.\u001b[39mdisconnect()\n\u001b[1;32m--> 716\u001b[0m \u001b[39mself\u001b[39;49m\u001b[39m.\u001b[39;49m_open_connection()\n\u001b[0;32m    717\u001b[0m \u001b[39mself\u001b[39m\u001b[39m.\u001b[39m_post_connection()\n",
      "File \u001b[1;32m~\\AppData\\Local\\Packages\\PythonSoftwareFoundation.Python.3.11_qbz5n2kfra8p0\\LocalCache\\local-packages\\Python311\\site-packages\\mysql\\connector\\connection.py:208\u001b[0m, in \u001b[0;36mMySQLConnection._open_connection\u001b[1;34m(self)\u001b[0m\n\u001b[0;32m    206\u001b[0m \u001b[39mself\u001b[39m\u001b[39m.\u001b[39m_socket\u001b[39m.\u001b[39mopen_connection()\n\u001b[0;32m    207\u001b[0m \u001b[39mself\u001b[39m\u001b[39m.\u001b[39m_do_handshake()\n\u001b[1;32m--> 208\u001b[0m \u001b[39mself\u001b[39;49m\u001b[39m.\u001b[39;49m_do_auth(\u001b[39mself\u001b[39;49m\u001b[39m.\u001b[39;49m_user, \u001b[39mself\u001b[39;49m\u001b[39m.\u001b[39;49m_password,\n\u001b[0;32m    209\u001b[0m               \u001b[39mself\u001b[39;49m\u001b[39m.\u001b[39;49m_database, \u001b[39mself\u001b[39;49m\u001b[39m.\u001b[39;49m_client_flags, \u001b[39mself\u001b[39;49m\u001b[39m.\u001b[39;49m_charset_id,\n\u001b[0;32m    210\u001b[0m               \u001b[39mself\u001b[39;49m\u001b[39m.\u001b[39;49m_ssl)\n\u001b[0;32m    211\u001b[0m \u001b[39mself\u001b[39m\u001b[39m.\u001b[39mset_converter_class(\u001b[39mself\u001b[39m\u001b[39m.\u001b[39m_converter_class)\n\u001b[0;32m    212\u001b[0m \u001b[39mif\u001b[39;00m \u001b[39mself\u001b[39m\u001b[39m.\u001b[39m_client_flags \u001b[39m&\u001b[39m ClientFlag\u001b[39m.\u001b[39mCOMPRESS:\n",
      "File \u001b[1;32m~\\AppData\\Local\\Packages\\PythonSoftwareFoundation.Python.3.11_qbz5n2kfra8p0\\LocalCache\\local-packages\\Python311\\site-packages\\mysql\\connector\\connection.py:137\u001b[0m, in \u001b[0;36mMySQLConnection._do_auth\u001b[1;34m(self, username, password, database, client_flags, charset, ssl_options)\u001b[0m\n\u001b[0;32m    134\u001b[0m     \u001b[39mself\u001b[39m\u001b[39m.\u001b[39m_socket\u001b[39m.\u001b[39mswitch_to_ssl(\u001b[39m*\u001b[39m\u001b[39m*\u001b[39mssl_options)\n\u001b[0;32m    135\u001b[0m     \u001b[39mself\u001b[39m\u001b[39m.\u001b[39m_ssl_active \u001b[39m=\u001b[39m \u001b[39mTrue\u001b[39;00m\n\u001b[1;32m--> 137\u001b[0m packet \u001b[39m=\u001b[39m \u001b[39mself\u001b[39;49m\u001b[39m.\u001b[39;49m_protocol\u001b[39m.\u001b[39;49mmake_auth(\n\u001b[0;32m    138\u001b[0m     handshake\u001b[39m=\u001b[39;49m\u001b[39mself\u001b[39;49m\u001b[39m.\u001b[39;49m_handshake,\n\u001b[0;32m    139\u001b[0m     username\u001b[39m=\u001b[39;49musername, password\u001b[39m=\u001b[39;49mpassword, database\u001b[39m=\u001b[39;49mdatabase,\n\u001b[0;32m    140\u001b[0m     charset\u001b[39m=\u001b[39;49mcharset, client_flags\u001b[39m=\u001b[39;49mclient_flags,\n\u001b[0;32m    141\u001b[0m     ssl_enabled\u001b[39m=\u001b[39;49m\u001b[39mself\u001b[39;49m\u001b[39m.\u001b[39;49m_ssl_active,\n\u001b[0;32m    142\u001b[0m     auth_plugin\u001b[39m=\u001b[39;49m\u001b[39mself\u001b[39;49m\u001b[39m.\u001b[39;49m_auth_plugin)\n\u001b[0;32m    143\u001b[0m \u001b[39mself\u001b[39m\u001b[39m.\u001b[39m_socket\u001b[39m.\u001b[39msend(packet)\n\u001b[0;32m    144\u001b[0m \u001b[39mself\u001b[39m\u001b[39m.\u001b[39m_auth_switch_request(username, password)\n",
      "File \u001b[1;32m~\\AppData\\Local\\Packages\\PythonSoftwareFoundation.Python.3.11_qbz5n2kfra8p0\\LocalCache\\local-packages\\Python311\\site-packages\\mysql\\connector\\protocol.py:99\u001b[0m, in \u001b[0;36mMySQLProtocol.make_auth\u001b[1;34m(self, handshake, username, password, database, charset, client_flags, max_allowed_packet, ssl_enabled, auth_plugin)\u001b[0m\n\u001b[0;32m     93\u001b[0m     username_bytes \u001b[39m=\u001b[39m username\n\u001b[0;32m     94\u001b[0m packet \u001b[39m=\u001b[39m struct\u001b[39m.\u001b[39mpack(\u001b[39m'\u001b[39m\u001b[39m<IIB\u001b[39m\u001b[39m{filler}\u001b[39;00m\u001b[39m{usrlen}\u001b[39;00m\u001b[39msx\u001b[39m\u001b[39m'\u001b[39m\u001b[39m.\u001b[39mformat(\n\u001b[0;32m     95\u001b[0m     filler\u001b[39m=\u001b[39m\u001b[39m'\u001b[39m\u001b[39mx\u001b[39m\u001b[39m'\u001b[39m \u001b[39m*\u001b[39m \u001b[39m23\u001b[39m, usrlen\u001b[39m=\u001b[39m\u001b[39mlen\u001b[39m(username_bytes)),\n\u001b[0;32m     96\u001b[0m                      client_flags, max_allowed_packet, charset,\n\u001b[0;32m     97\u001b[0m                      username_bytes)\n\u001b[1;32m---> 99\u001b[0m packet \u001b[39m+\u001b[39m\u001b[39m=\u001b[39m \u001b[39mself\u001b[39;49m\u001b[39m.\u001b[39;49m_auth_response(client_flags, username, password,\n\u001b[0;32m    100\u001b[0m                               database,\n\u001b[0;32m    101\u001b[0m                               auth_plugin,\n\u001b[0;32m    102\u001b[0m                               auth_data, ssl_enabled)\n\u001b[0;32m    104\u001b[0m packet \u001b[39m+\u001b[39m\u001b[39m=\u001b[39m \u001b[39mself\u001b[39m\u001b[39m.\u001b[39m_connect_with_db(client_flags, database)\n\u001b[0;32m    106\u001b[0m \u001b[39mif\u001b[39;00m client_flags \u001b[39m&\u001b[39m ClientFlag\u001b[39m.\u001b[39mPLUGIN_AUTH:\n",
      "File \u001b[1;32m~\\AppData\\Local\\Packages\\PythonSoftwareFoundation.Python.3.11_qbz5n2kfra8p0\\LocalCache\\local-packages\\Python311\\site-packages\\mysql\\connector\\protocol.py:58\u001b[0m, in \u001b[0;36mMySQLProtocol._auth_response\u001b[1;34m(self, client_flags, username, password, database, auth_plugin, auth_data, ssl_enabled)\u001b[0m\n\u001b[0;32m     55\u001b[0m     \u001b[39mreturn\u001b[39;00m \u001b[39mb\u001b[39m\u001b[39m'\u001b[39m\u001b[39m\\x00\u001b[39;00m\u001b[39m'\u001b[39m\n\u001b[0;32m     57\u001b[0m \u001b[39mtry\u001b[39;00m:\n\u001b[1;32m---> 58\u001b[0m     auth \u001b[39m=\u001b[39m get_auth_plugin(auth_plugin)(\n\u001b[0;32m     59\u001b[0m         auth_data,\n\u001b[0;32m     60\u001b[0m         username\u001b[39m=\u001b[39musername, password\u001b[39m=\u001b[39mpassword, database\u001b[39m=\u001b[39mdatabase,\n\u001b[0;32m     61\u001b[0m         ssl_enabled\u001b[39m=\u001b[39mssl_enabled)\n\u001b[0;32m     62\u001b[0m     plugin_auth_response \u001b[39m=\u001b[39m auth\u001b[39m.\u001b[39mauth_response()\n\u001b[0;32m     63\u001b[0m \u001b[39mexcept\u001b[39;00m (\u001b[39mTypeError\u001b[39;00m, errors\u001b[39m.\u001b[39mInterfaceError) \u001b[39mas\u001b[39;00m exc:\n",
      "File \u001b[1;32m~\\AppData\\Local\\Packages\\PythonSoftwareFoundation.Python.3.11_qbz5n2kfra8p0\\LocalCache\\local-packages\\Python311\\site-packages\\mysql\\connector\\authentication.py:190\u001b[0m, in \u001b[0;36mget_auth_plugin\u001b[1;34m(plugin_name)\u001b[0m\n\u001b[0;32m    187\u001b[0m     \u001b[39mif\u001b[39;00m authclass\u001b[39m.\u001b[39mplugin_name \u001b[39m==\u001b[39m plugin_name:\n\u001b[0;32m    188\u001b[0m         \u001b[39mreturn\u001b[39;00m authclass\n\u001b[1;32m--> 190\u001b[0m \u001b[39mraise\u001b[39;00m errors\u001b[39m.\u001b[39mNotSupportedError(\n\u001b[0;32m    191\u001b[0m     \u001b[39m\"\u001b[39m\u001b[39mAuthentication plugin \u001b[39m\u001b[39m'\u001b[39m\u001b[39m{0}\u001b[39;00m\u001b[39m'\u001b[39m\u001b[39m is not supported\u001b[39m\u001b[39m\"\u001b[39m\u001b[39m.\u001b[39mformat(plugin_name))\n",
      "\u001b[1;31mNotSupportedError\u001b[0m: Authentication plugin 'caching_sha2_password' is not supported"
     ]
    }
   ],
   "source": [
    "import mysql.connector\n",
    "mydb = mysql.connector.connect(host=\"localhost\", user=\"jin\", passwd=\"1234\")"
   ]
  },
  {
   "cell_type": "code",
   "execution_count": 9,
   "id": "d33729b1",
   "metadata": {},
   "outputs": [
    {
     "ename": "gaierror",
     "evalue": "[Errno 11001] getaddrinfo failed",
     "output_type": "error",
     "traceback": [
      "\u001b[1;31m---------------------------------------------------------------------------\u001b[0m",
      "\u001b[1;31mgaierror\u001b[0m                                  Traceback (most recent call last)",
      "Cell \u001b[1;32mIn[9], line 3\u001b[0m\n\u001b[0;32m      1\u001b[0m \u001b[39mimport\u001b[39;00m \u001b[39msmtplib\u001b[39;00m\n\u001b[1;32m----> 3\u001b[0m server \u001b[39m=\u001b[39m smtplib\u001b[39m.\u001b[39;49mSMTP(\u001b[39m'\u001b[39;49m\u001b[39mstmp.gmail.com\u001b[39;49m\u001b[39m'\u001b[39;49m, \u001b[39m587\u001b[39;49m)\n\u001b[0;32m      4\u001b[0m server\u001b[39m.\u001b[39mstarttls()\n\u001b[0;32m      5\u001b[0m server\u001b[39m.\u001b[39mlogin(\u001b[39m'\u001b[39m\u001b[39mjinkim567@gmail.com\u001b[39m\u001b[39m'\u001b[39m,\u001b[39m'\u001b[39m\u001b[39mASDFasdf1234\u001b[39m\u001b[39m'\u001b[39m)\n",
      "File \u001b[1;32mC:\\Program Files\\WindowsApps\\PythonSoftwareFoundation.Python.3.11_3.11.496.0_x64__qbz5n2kfra8p0\\Lib\\smtplib.py:255\u001b[0m, in \u001b[0;36mSMTP.__init__\u001b[1;34m(self, host, port, local_hostname, timeout, source_address)\u001b[0m\n\u001b[0;32m    252\u001b[0m \u001b[39mself\u001b[39m\u001b[39m.\u001b[39m_auth_challenge_count \u001b[39m=\u001b[39m \u001b[39m0\u001b[39m\n\u001b[0;32m    254\u001b[0m \u001b[39mif\u001b[39;00m host:\n\u001b[1;32m--> 255\u001b[0m     (code, msg) \u001b[39m=\u001b[39m \u001b[39mself\u001b[39;49m\u001b[39m.\u001b[39;49mconnect(host, port)\n\u001b[0;32m    256\u001b[0m     \u001b[39mif\u001b[39;00m code \u001b[39m!=\u001b[39m \u001b[39m220\u001b[39m:\n\u001b[0;32m    257\u001b[0m         \u001b[39mself\u001b[39m\u001b[39m.\u001b[39mclose()\n",
      "File \u001b[1;32mC:\\Program Files\\WindowsApps\\PythonSoftwareFoundation.Python.3.11_3.11.496.0_x64__qbz5n2kfra8p0\\Lib\\smtplib.py:341\u001b[0m, in \u001b[0;36mSMTP.connect\u001b[1;34m(self, host, port, source_address)\u001b[0m\n\u001b[0;32m    339\u001b[0m     port \u001b[39m=\u001b[39m \u001b[39mself\u001b[39m\u001b[39m.\u001b[39mdefault_port\n\u001b[0;32m    340\u001b[0m sys\u001b[39m.\u001b[39maudit(\u001b[39m\"\u001b[39m\u001b[39msmtplib.connect\u001b[39m\u001b[39m\"\u001b[39m, \u001b[39mself\u001b[39m, host, port)\n\u001b[1;32m--> 341\u001b[0m \u001b[39mself\u001b[39m\u001b[39m.\u001b[39msock \u001b[39m=\u001b[39m \u001b[39mself\u001b[39;49m\u001b[39m.\u001b[39;49m_get_socket(host, port, \u001b[39mself\u001b[39;49m\u001b[39m.\u001b[39;49mtimeout)\n\u001b[0;32m    342\u001b[0m \u001b[39mself\u001b[39m\u001b[39m.\u001b[39mfile \u001b[39m=\u001b[39m \u001b[39mNone\u001b[39;00m\n\u001b[0;32m    343\u001b[0m (code, msg) \u001b[39m=\u001b[39m \u001b[39mself\u001b[39m\u001b[39m.\u001b[39mgetreply()\n",
      "File \u001b[1;32mC:\\Program Files\\WindowsApps\\PythonSoftwareFoundation.Python.3.11_3.11.496.0_x64__qbz5n2kfra8p0\\Lib\\smtplib.py:312\u001b[0m, in \u001b[0;36mSMTP._get_socket\u001b[1;34m(self, host, port, timeout)\u001b[0m\n\u001b[0;32m    310\u001b[0m \u001b[39mif\u001b[39;00m \u001b[39mself\u001b[39m\u001b[39m.\u001b[39mdebuglevel \u001b[39m>\u001b[39m \u001b[39m0\u001b[39m:\n\u001b[0;32m    311\u001b[0m     \u001b[39mself\u001b[39m\u001b[39m.\u001b[39m_print_debug(\u001b[39m'\u001b[39m\u001b[39mconnect: to\u001b[39m\u001b[39m'\u001b[39m, (host, port), \u001b[39mself\u001b[39m\u001b[39m.\u001b[39msource_address)\n\u001b[1;32m--> 312\u001b[0m \u001b[39mreturn\u001b[39;00m socket\u001b[39m.\u001b[39;49mcreate_connection((host, port), timeout,\n\u001b[0;32m    313\u001b[0m                                 \u001b[39mself\u001b[39;49m\u001b[39m.\u001b[39;49msource_address)\n",
      "File \u001b[1;32mC:\\Program Files\\WindowsApps\\PythonSoftwareFoundation.Python.3.11_3.11.496.0_x64__qbz5n2kfra8p0\\Lib\\socket.py:827\u001b[0m, in \u001b[0;36mcreate_connection\u001b[1;34m(address, timeout, source_address, all_errors)\u001b[0m\n\u001b[0;32m    825\u001b[0m host, port \u001b[39m=\u001b[39m address\n\u001b[0;32m    826\u001b[0m exceptions \u001b[39m=\u001b[39m []\n\u001b[1;32m--> 827\u001b[0m \u001b[39mfor\u001b[39;00m res \u001b[39min\u001b[39;00m getaddrinfo(host, port, \u001b[39m0\u001b[39;49m, SOCK_STREAM):\n\u001b[0;32m    828\u001b[0m     af, socktype, proto, canonname, sa \u001b[39m=\u001b[39m res\n\u001b[0;32m    829\u001b[0m     sock \u001b[39m=\u001b[39m \u001b[39mNone\u001b[39;00m\n",
      "File \u001b[1;32mC:\\Program Files\\WindowsApps\\PythonSoftwareFoundation.Python.3.11_3.11.496.0_x64__qbz5n2kfra8p0\\Lib\\socket.py:962\u001b[0m, in \u001b[0;36mgetaddrinfo\u001b[1;34m(host, port, family, type, proto, flags)\u001b[0m\n\u001b[0;32m    959\u001b[0m \u001b[39m# We override this function since we want to translate the numeric family\u001b[39;00m\n\u001b[0;32m    960\u001b[0m \u001b[39m# and socket type values to enum constants.\u001b[39;00m\n\u001b[0;32m    961\u001b[0m addrlist \u001b[39m=\u001b[39m []\n\u001b[1;32m--> 962\u001b[0m \u001b[39mfor\u001b[39;00m res \u001b[39min\u001b[39;00m _socket\u001b[39m.\u001b[39;49mgetaddrinfo(host, port, family, \u001b[39mtype\u001b[39;49m, proto, flags):\n\u001b[0;32m    963\u001b[0m     af, socktype, proto, canonname, sa \u001b[39m=\u001b[39m res\n\u001b[0;32m    964\u001b[0m     addrlist\u001b[39m.\u001b[39mappend((_intenum_converter(af, AddressFamily),\n\u001b[0;32m    965\u001b[0m                      _intenum_converter(socktype, SocketKind),\n\u001b[0;32m    966\u001b[0m                      proto, canonname, sa))\n",
      "\u001b[1;31mgaierror\u001b[0m: [Errno 11001] getaddrinfo failed"
     ]
    }
   ],
   "source": [
    "import smtplib\n",
    "\n",
    "server = smtplib.SMTP('stmp.gmail.com', 587)\n",
    "server.starttls()\n",
    "server.login('jinkim567@gmail.com','ASDFasdf1234')\n",
    "server.sendmail('jinkim567@gmail.com', 'jinkim567@gmail.com','mail from pythosn jin')\n",
    "print('Mail sent successfully')"
   ]
  }
 ],
 "metadata": {
  "kernelspec": {
   "display_name": "Python 3",
   "language": "python",
   "name": "python3"
  },
  "language_info": {
   "codemirror_mode": {
    "name": "ipython",
    "version": 3
   },
   "file_extension": ".py",
   "mimetype": "text/x-python",
   "name": "python",
   "nbconvert_exporter": "python",
   "pygments_lexer": "ipython3",
   "version": "3.11.2"
  },
  "vscode": {
   "interpreter": {
    "hash": "167292a65afd6a86f6a345050f545a0b2064fac38e61c55335019ac17c9a7b7a"
   }
  }
 },
 "nbformat": 4,
 "nbformat_minor": 5
}
